{
 "cells": [
  {
   "cell_type": "code",
   "execution_count": 3,
   "id": "a351ae6c",
   "metadata": {},
   "outputs": [
    {
     "name": "stdout",
     "output_type": "stream",
     "text": [
      "http://openinsider.com/screener?s=&o=&pl=&ph=&ll=&lh=&fd=-1&td=0&tdr=&fdlyl=&fdlyh=&daysago=&xp=1&vl=&vh=&ocl=&och=&sic1=-1&sicl=100&sich=9999&grp=0&nfl=&nfh=&nil=&nih=&nol=&noh=&v2l=&v2h=&oc2l=&oc2h=&sortcol=0&cnt=1000&page=2&fdr=05%2F01%2F2022+-+05%2F10%2F2023\n"
     ]
    }
   ],
   "source": [
    "from urllib.parse import urlencode, quote_plus\n",
    "\n",
    "def openinsider_url(start_date, end_date, count=1000, page=1):\n",
    "    \"\"\"\n",
    "    start_date, end_date: pd.Timestamp or 'MM/DD/YYYY' string\n",
    "    \"\"\"\n",
    "    # Format dates as MM/DD/YYYY\n",
    "    def fmt(d):\n",
    "        if isinstance(d, str):\n",
    "            return d\n",
    "        return d.strftime(\"%m/%d/%Y\")\n",
    "    \n",
    "    # Build fdr string: MM/DD/YYYY+-+MM/DD/YYYY, url-encoded\n",
    "    fdr = f\"{fmt(start_date)} - {fmt(end_date)}\"\n",
    "    fdr_encoded = quote_plus(fdr)  # this will encode as \"05%2F01%2F2022+-+05%2F01%2F2023\"\n",
    "\n",
    "    base_url = \"http://openinsider.com/screener?\"\n",
    "\n",
    "    params = {\n",
    "        \"s\": \"\",\n",
    "        \"o\": \"\",\n",
    "        \"pl\": \"\",\n",
    "        \"ph\": \"\",\n",
    "        \"ll\": \"\",\n",
    "        \"lh\": \"\",\n",
    "        \"fd\": \"-1\",\n",
    "        \"fdr\": fdr_encoded,  # already encoded\n",
    "        \"td\": \"0\",\n",
    "        \"tdr\": \"\",\n",
    "        \"fdlyl\": \"\",\n",
    "        \"fdlyh\": \"\",\n",
    "        \"daysago\": \"\",\n",
    "        \"xp\": \"1\",\n",
    "        \"vl\": \"\",\n",
    "        \"vh\": \"\",\n",
    "        \"ocl\": \"\",\n",
    "        \"och\": \"\",\n",
    "        \"sic1\": \"-1\",\n",
    "        \"sicl\": \"100\",\n",
    "        \"sich\": \"9999\",\n",
    "        \"grp\": \"0\",\n",
    "        \"nfl\": \"\",\n",
    "        \"nfh\": \"\",\n",
    "        \"nil\": \"\",\n",
    "        \"nih\": \"\",\n",
    "        \"nol\": \"\",\n",
    "        \"noh\": \"\",\n",
    "        \"v2l\": \"\",\n",
    "        \"v2h\": \"\",\n",
    "        \"oc2l\": \"\",\n",
    "        \"oc2h\": \"\",\n",
    "        \"sortcol\": \"0\",\n",
    "        \"cnt\": str(count),\n",
    "        \"page\": str(page),\n",
    "    }\n",
    "\n",
    "    # Remove fdr from params so we can append the encoded one at the end\n",
    "    params.pop(\"fdr\")\n",
    "    url = base_url + urlencode(params) + f\"&fdr={fdr_encoded}\"\n",
    "    return url\n",
    "# Example usage:\n",
    "url = openinsider_url(\"05/01/2022\", \"05/10/2023\",count=1000,page=2)\n",
    "print(url)\n",
    "#works\n"
   ]
  }
 ],
 "metadata": {
  "kernelspec": {
   "display_name": "Python 3",
   "language": "python",
   "name": "python3"
  },
  "language_info": {
   "codemirror_mode": {
    "name": "ipython",
    "version": 3
   },
   "file_extension": ".py",
   "mimetype": "text/x-python",
   "name": "python",
   "nbconvert_exporter": "python",
   "pygments_lexer": "ipython3",
   "version": "3.13.5"
  }
 },
 "nbformat": 4,
 "nbformat_minor": 5
}
