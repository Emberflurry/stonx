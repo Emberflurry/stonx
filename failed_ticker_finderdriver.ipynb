{
 "cells": [
  {
   "cell_type": "code",
   "execution_count": 7,
   "id": "946ac5c7",
   "metadata": {},
   "outputs": [
    {
     "name": "stdout",
     "output_type": "stream",
     "text": [
      "  ticker              lvl               mdate mprice_date  \\\n",
      "0   FOMC  itermebuyprice2 2023-04-27 16:27:00  2023-05-02   \n",
      "1   CSTR  itermebuyprice2 2023-05-02 17:16:00  2023-04-25   \n",
      "2   SMMF  itermebuyprice2 2023-05-02 16:41:00  2023-04-28   \n",
      "3   HMNF  itermebuyprice2 2023-03-25 15:43:00  2023-05-02   \n",
      "4   CVCY  itermebuyprice2 2023-04-29 14:01:00  2023-04-28   \n",
      "\n",
      "                       company_name  \\\n",
      "0              Fomo Worldwide, Inc.   \n",
      "1  Capstar Financial Holdings, Inc.   \n",
      "2      Summit Financial Group, Inc.   \n",
      "3                 Hmn Financial Inc   \n",
      "4  Central Valley Community Bancorp   \n",
      "\n",
      "                                              error  trade_price trade_date  \\\n",
      "0  index -2 is out of bounds for axis 0 with size 0         0.19 2023-04-26   \n",
      "1  index -2 is out of bounds for axis 0 with size 0        13.37 2023-05-01   \n",
      "2  index -2 is out of bounds for axis 0 with size 0        19.62 2023-05-01   \n",
      "3  index -2 is out of bounds for axis 0 with size 0        18.35 2023-04-27   \n",
      "4  index -2 is out of bounds for axis 0 with size 0        14.73 2023-04-28   \n",
      "\n",
      "       qty                                 concat  ... how? invcomticker  \\\n",
      "0  5548815                                    NaN  ...  NaN          NaN   \n",
      "1     5000  Capstar Financial Holdings, Inc. CSTR  ...  NaN            1   \n",
      "2     3000      Summit Financial Group, Inc. SMMF  ...    g            0   \n",
      "3     1054                 Hmn Financial Inc HMNF  ...  NaN          NaN   \n",
      "4     2000  Central Valley Community Bancorp CVCY  ...  NaN          NaN   \n",
      "\n",
      "  invcomname news lead found dloaded cleaned inDataDict excel doc?  end date  \n",
      "0        NaN  NaN  NaN   NaN     NaN     NaN                   NaN       NaT  \n",
      "1          1  1.0  NaN   NaN     NaN     NaN                   NaN       NaT  \n",
      "2          0  1.0  NaN   NaN     NaN     NaN                   NaN       NaT  \n",
      "3        NaN  NaN  NaN   NaN     NaN     NaN                   NaN       NaT  \n",
      "4        NaN  NaN  NaN   NaN     NaN     NaN                   NaN       NaT  \n",
      "\n",
      "[5 rows x 34 columns]\n"
     ]
    }
   ],
   "source": [
    "#get excel doc\n",
    "import pandas as pd\n",
    "import openpyxl\n",
    "\n",
    "yfail = pd.read_excel('failed_log2.xlsx')\n",
    "print(yfail.head())"
   ]
  },
  {
   "cell_type": "code",
   "execution_count": 8,
   "id": "cca79f40",
   "metadata": {},
   "outputs": [],
   "source": [
    "yfaildiscard = yfail[yfail['trade_price'] < 1].copy()\n",
    "yfailkeep = yfail[yfail['trade_price'] >= 1].copy()"
   ]
  },
  {
   "cell_type": "code",
   "execution_count": 15,
   "id": "12c477ce",
   "metadata": {},
   "outputs": [
    {
     "name": "stdout",
     "output_type": "stream",
     "text": [
      "  ticker                      company_name               mdate trade_date  \\\n",
      "1   CSTR  Capstar Financial Holdings, Inc. 2023-05-02 17:16:00 2023-05-01   \n",
      "2   SMMF      Summit Financial Group, Inc. 2023-05-02 16:41:00 2023-05-01   \n",
      "3   HMNF                 Hmn Financial Inc 2023-03-25 15:43:00 2023-04-27   \n",
      "4   CVCY  Central Valley Community Bancorp 2023-04-29 14:01:00 2023-04-28   \n",
      "5   BECN         Beacon Roofing Supply Inc 2023-04-29 17:42:00 2023-04-28   \n",
      "\n",
      "                                            icom_url  \n",
      "1  https://www.investing.com/equities/capstar-fin...  \n",
      "2  https://www.investing.com/equities/summit-fina...  \n",
      "3  https://www.investing.com/equities/hmn-financi...  \n",
      "4  https://www.investing.com/equities/central-val...  \n",
      "5  https://www.investing.com/equities/beacon-roof...  \n"
     ]
    }
   ],
   "source": [
    "#now get urls for ea ticker/company\n",
    "#print(yfailkeep['I g F'].head())\n",
    "summary = yfailkeep[['ticker', 'company_name','mdate', 'trade_date', 'I g F']].copy()\n",
    "summary = summary.rename(columns={'I g F': 'icom_url'})\n",
    "print(summary.head())\n"
   ]
  },
  {
   "cell_type": "code",
   "execution_count": null,
   "id": "129614d4",
   "metadata": {},
   "outputs": [
    {
     "name": "stdout",
     "output_type": "stream",
     "text": [
      "1st icom pull in 5s, fullScChrome100%\n",
      "fin thru https://www.investing.com/equities/capstar-financial-holdings-inc\n",
      "fin thru https://www.investing.com/equities/summit-financial-historical-data\n",
      "fin thru https://www.investing.com/equities/hmn-financial-historical-data\n",
      "fin thru https://www.investing.com/equities/central-valley-historical-data\n"
     ]
    },
    {
     "ename": "KeyboardInterrupt",
     "evalue": "",
     "output_type": "error",
     "traceback": [
      "\u001b[31m---------------------------------------------------------------------------\u001b[39m",
      "\u001b[31mKeyboardInterrupt\u001b[39m                         Traceback (most recent call last)",
      "\u001b[36mCell\u001b[39m\u001b[36m \u001b[39m\u001b[32mIn[14]\u001b[39m\u001b[32m, line 17\u001b[39m\n\u001b[32m     15\u001b[39m pyautogui.typewrite(icom_url)\n\u001b[32m     16\u001b[39m pyautogui.press(\u001b[33m'\u001b[39m\u001b[33menter\u001b[39m\u001b[33m'\u001b[39m)\n\u001b[32m---> \u001b[39m\u001b[32m17\u001b[39m \u001b[43mtime\u001b[49m\u001b[43m.\u001b[49m\u001b[43msleep\u001b[49m\u001b[43m(\u001b[49m\u001b[32;43m5\u001b[39;49m\u001b[43m)\u001b[49m                   \u001b[38;5;66;03m# Wait for page to load\u001b[39;00m\n\u001b[32m     19\u001b[39m \u001b[38;5;66;03m# Optionally: Insert more pyautogui commands here to move/click the mouse around as needed\u001b[39;00m\n\u001b[32m     20\u001b[39m \n\u001b[32m     21\u001b[39m \u001b[38;5;66;03m# Run puller.py with the trade_date argument\u001b[39;00m\n\u001b[32m     22\u001b[39m \u001b[38;5;66;03m#subprocess.run(['python', 'puller.py', str(trade_date)])\u001b[39;00m\n\u001b[32m     23\u001b[39m subprocess.run([\u001b[33m'\u001b[39m\u001b[33mpython\u001b[39m\u001b[33m'\u001b[39m, \u001b[33m'\u001b[39m\u001b[33minvcom_single_puller2.py\u001b[39m\u001b[33m'\u001b[39m, trade_date])\n",
      "\u001b[31mKeyboardInterrupt\u001b[39m: "
     ]
    }
   ],
   "source": [
    "import pyautogui as pa\n",
    "import time\n",
    "import subprocess\n",
    "import keyboard\n",
    "idelay=5\n",
    "print(f'1st icom pull in {idelay}s, fullScChrome100%')\n",
    "time.sleep(idelay)\n",
    "for idx, row in summary.iterrows():\n",
    "    if keyboard.is_pressed('esc'):\n",
    "        print('ESC pressed. Exiting loop.')\n",
    "        break\n",
    "    icom_url = row['icom_url']\n",
    "    trade_date = str(row['trade_date'])\n",
    "    pa.hotkey('ctrl', 'l')   # Focus address bar\n",
    "    pa.typewrite(icom_url)\n",
    "    pa.hotkey('ctrl','shift','v')\n",
    "    pa.press('enter')\n",
    "    time.sleep(5)                   # Wait for page to load\n",
    "\n",
    "    # Optionally: Insert more pyautogui commands here to move/click the mouse around as needed\n",
    "\n",
    "    # Run puller.py with the trade_date argument\n",
    "    #subprocess.run(['python', 'puller.py', str(trade_date)])\n",
    "    subprocess.run(['python', 'invcom_single_puller2.py', trade_date])\n",
    "    print(f'fin thru {icom_url}')\n",
    "\n",
    "    # Wait or reset as needed before next iteration\n",
    "    time.sleep(.5)\n",
    "\n",
    "    #TODO FIX: investing.com pages were loading super slow, so didnt actually download any data\n",
    "    #:(((((\n",
    "    #sucks)))))\n",
    "    #FUCKKAMMMA\n"
   ]
  }
 ],
 "metadata": {
  "kernelspec": {
   "display_name": "Python 3",
   "language": "python",
   "name": "python3"
  },
  "language_info": {
   "codemirror_mode": {
    "name": "ipython",
    "version": 3
   },
   "file_extension": ".py",
   "mimetype": "text/x-python",
   "name": "python",
   "nbconvert_exporter": "python",
   "pygments_lexer": "ipython3",
   "version": "3.13.5"
  }
 },
 "nbformat": 4,
 "nbformat_minor": 5
}
