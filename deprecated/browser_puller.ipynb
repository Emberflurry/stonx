{
 "cells": [
  {
   "cell_type": "code",
   "execution_count": null,
   "id": "3c69e43e",
   "metadata": {},
   "outputs": [
    {
     "data": {
      "text/plain": [
       "CompletedProcess(args=['python', '-m', 'playwright', 'install'], returncode=0)"
      ]
     },
     "execution_count": 3,
     "metadata": {},
     "output_type": "execute_result"
    }
   ],
   "source": [
    "#DEPRECATED - CHROME CATCHES BOTS AND BLOCKS LOGINS/USAGE :(\n",
    "#SETUP ONLY\n",
    "#import subprocess\n",
    "#subprocess.run([\"python\", \"-m\", \"playwright\", \"install\"], check=True)\n",
    "#do not run again - just an import.\n",
    "#also for setup, ran in terminal:\n",
    "#pip install playwright opencv-python pyautogui\n",
    "#pip install pygetwindow pillow"
   ]
  },
  {
   "cell_type": "code",
   "execution_count": 5,
   "id": "af488214",
   "metadata": {},
   "outputs": [
    {
     "name": "stdout",
     "output_type": "stream",
     "text": [
      "C:\\Users\\John DeForest\\AppData\\Roaming\\Python\\Python313\\site-packages\\playwright\\__init__.py\n"
     ]
    }
   ],
   "source": [
    "import playwright\n",
    "print(playwright.__file__)"
   ]
  },
  {
   "cell_type": "code",
   "execution_count": null,
   "id": "c5a9b5ea",
   "metadata": {},
   "outputs": [],
   "source": []
  }
 ],
 "metadata": {
  "kernelspec": {
   "display_name": "Python 3",
   "language": "python",
   "name": "python3"
  },
  "language_info": {
   "codemirror_mode": {
    "name": "ipython",
    "version": 3
   },
   "file_extension": ".py",
   "mimetype": "text/x-python",
   "name": "python",
   "nbconvert_exporter": "python",
   "pygments_lexer": "ipython3",
   "version": "3.13.5"
  }
 },
 "nbformat": 4,
 "nbformat_minor": 5
}
